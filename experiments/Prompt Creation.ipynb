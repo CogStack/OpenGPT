{
 "cells": [
  {
   "cell_type": "code",
   "execution_count": 27,
   "id": "77303897-4f09-4726-ad0a-e177747c82fd",
   "metadata": {
    "tags": []
   },
   "outputs": [],
   "source": [
    "from opengpt.prompt_utils import add_to_prompt_database\n",
    "from opengpt.config import Config\n",
    "import hashlib\n",
    "import json"
   ]
  },
  {
   "cell_type": "code",
   "execution_count": 3,
   "id": "a8e3f831-bf93-416a-9f2d-f5326a4bc20f",
   "metadata": {
    "tags": []
   },
   "outputs": [],
   "source": [
    "config = Config(yaml_path='../configs/example_config_for_detaset_creation.yaml')"
   ]
  },
  {
   "cell_type": "markdown",
   "id": "0ae8d8a7-926d-4ab5-8266-024b28bc7304",
   "metadata": {},
   "source": [
    "## How to add prompts into the prompt database\n",
    "\n",
    "Here we will add three prompts to the prompt database, the same template can be used to add any prompt. \n",
    "\n",
    "Each prompt requires three fields:\n",
    "\n",
    "- `text` - The text of the prompt that will be sent to OpenAI (ChatGPT, or GPT-4, or any other model that can be used to create a dataset). The prompt needs to have at least two placeholders. First, `context` - the content of a document that will be used to generate question/answer pairs, or a conversation, or anything else. And second, `language` in what language do we want the output to be.\n",
    "\n",
    "- `description` - A short description of what is this prompt for and how to use it.\n",
    "\n",
    "- `parser` - The parser to be used to parse the output from a Teacher (e.g. OpenAI, Google).\n",
    "\n",
    "Notes:\n",
    "- When using the `csv_*` parsers the separator \";\" has to be used."
   ]
  },
  {
   "cell_type": "code",
   "execution_count": null,
   "id": "4127e8b4-b9e3-4e25-a20e-18415f530340",
   "metadata": {
    "tags": []
   },
   "outputs": [],
   "source": [
    "# Check what is already in the prompt DB, use existing prompts or add new ones \n",
    "if os.path.exists(config.path.prompt_db):\n",
    "    db = json.load(open(config.path.prompt_db))\n",
    "    for prompt in db:\n",
    "        print('Description: ', prompt['description'])\n",
    "        print('Hash: ', prompt['hash'])\n",
    "        print('Parser: ', prompt['parser'])\n",
    "        print('Text: ', prompt['text'])\n",
    "        print(\"*\"*100)\n",
    "        print()"
   ]
  },
  {
   "cell_type": "code",
   "execution_count": 11,
   "id": "2a3e445f-4454-4209-950c-d4ee8be40ecc",
   "metadata": {
    "tags": []
   },
   "outputs": [],
   "source": [
    "text = '''Given the following context: {context}\n",
    "\n",
    "----------------\n",
    "Create a conversation between a Patient concerned about the symptoms and disorders presented above and an AI-Assistant. The conversation should abide by the following rules and instructions:\n",
    "1. The output should be in {language}.\n",
    "2. All questions and answers have to be strictly based on the context provided above.\n",
    "3. The questions should be diverse and cover different aspects of the context provided above.\n",
    "4. When generating the conversation please always use the English placeholders \"Patient\" for the Patient and \"AI-Assistant\" for the AI-Assistant, irrelevant of the language.\n",
    "5. The conversation should always be started by the Patient.\n",
    "6. The patient should start the conversation with a \"Hi,\".\n",
    "7. The AI-Assistant should be helpful, and supportive and try to not scare the patient. The answers have be to detailed and self-contained.'''\n",
    "description = '''This will generate a conversation between a Patient and an AI assistant in the specified languages. The only argument for this prompt is the {language} argument, if not provided it will default to English.'''\n",
    "parser = 'medical_conversation_parser'"
   ]
  },
  {
   "cell_type": "code",
   "execution_count": 12,
   "id": "a4d2789d-811d-4dc3-8371-98cd8987fb79",
   "metadata": {
    "tags": []
   },
   "outputs": [
    {
     "name": "stderr",
     "output_type": "stream",
     "text": [
      "WARNING:root:Added prompt: f4df95ec69\n"
     ]
    }
   ],
   "source": [
    "db = add_to_prompt_database(text, \n",
    "                            description, \n",
    "                            parser, \n",
    "                            config.path.prompt_db, \n",
    "                            force_replace=False)"
   ]
  },
  {
   "cell_type": "code",
   "execution_count": 13,
   "id": "3a09bce3-a264-4d3d-bbac-6a5c8a148ae0",
   "metadata": {
    "tags": []
   },
   "outputs": [],
   "source": [
    "text = '''Given the following context: {context}\n",
    "\n",
    "----------------\n",
    "Create {quantity} detailed question-answer pairs from the context above, the questions are asked by a curious user and the answers are by a helpful AI-Assistant. The question-answer pairs should abide by the following rules and instructions:\n",
    "1. The output should be in {language}.\n",
    "2. The output should be in CSV format, with the following header: ID;Question;Answer\n",
    "3. All question/answer pairs have to be strictly based on the context provided above and be self-contained and independent.\n",
    "4. The questions should be diverse and cover different aspects of the context provided above.\n",
    "5. The answers should be long, extensive, detailed, informative, helpful and self-contained.'''\n",
    "description = 'A general purpose prompt creating qustion answer pairs. This prompt takes two arguments {quantity} or how many q/a pairs to generate and {language}'\n",
    "parser = 'csv_qa_parser'"
   ]
  },
  {
   "cell_type": "code",
   "execution_count": 14,
   "id": "588ed831-144b-4cf3-8088-2f7da264ed1f",
   "metadata": {
    "tags": []
   },
   "outputs": [
    {
     "name": "stderr",
     "output_type": "stream",
     "text": [
      "WARNING:root:Added prompt: f53cf99826\n"
     ]
    }
   ],
   "source": [
    "db = add_to_prompt_database(text, \n",
    "                            description, \n",
    "                            parser, \n",
    "                            config.path.prompt_db, \n",
    "                            force_replace=False)"
   ]
  },
  {
   "cell_type": "code",
   "execution_count": 15,
   "id": "0b877351-fd90-4728-b4a0-adf00d986d4f",
   "metadata": {
    "tags": []
   },
   "outputs": [],
   "source": [
    "text = '''You are asked to come up with a set of {quantity} diverse task instructions in the field of medicine and healthcare. These task instructions will be given to a Medical GPT model and we will evaluate the Medical GPT model for completing the instructions.\n",
    "\n",
    "Here are the requirements:\n",
    "1. Try not to repeat the verb for each instruction to maximize diversity.\n",
    "2. The language used for the instruction also should be diverse. For example, you should combine questions with imperative instructions.\n",
    "3. The type of instructions should be diverse. The list should include diverse kinds of tasks like step-by-step reasoning, multiple-choice-questions, open-ended generation, classification, editing, complex medical questions, simple medical questions, etc.\n",
    "4. A GPT language model should be able to complete the instruction. For example, do not ask the assistant to create any visual or audio output. For another example, do not ask the assistant to wake you up at 5pm or set a reminder because it cannot perform any action.\n",
    "5. The instructions should be in {language}.\n",
    "6. The instructions should be 1 to 4 sentences long. Either an imperative sentence or a question is permitted.\n",
    "7. You should generate an appropriate input to the instruction. The input field should contain a specific example provided for the instruction. It should involve realistic data and should not contain simple placeholders. The input should provide substantial content to make the instruction challenging but should ideally not exceed 300 words.\n",
    "8. Not all instructions require input. For example, when an instruction asks about some general information, \"What is diabetes\", it is not necessary to provide a specific context. In this case, we simply put \"<noinput>\" in the input field.\n",
    "9. The output should be an appropriate response to the instruction and the input. It should ideally not exceed 400 words.\n",
    "10. All generated output should use the metric system for measurements and UK names for medications, substances, drugs and everything else.\n",
    "\n",
    "List of {quantity} tasks (every task has the following fields: Task:, Instruction:, Input:, Output:):'''\n",
    "description = '''Generates high complexity various medical instruction-tasks'''\n",
    "parser = None"
   ]
  },
  {
   "cell_type": "code",
   "execution_count": 16,
   "id": "9502955a-2710-427c-aab0-aa6c20990021",
   "metadata": {
    "tags": []
   },
   "outputs": [
    {
     "name": "stderr",
     "output_type": "stream",
     "text": [
      "WARNING:root:Added prompt: 5755564c19\n"
     ]
    }
   ],
   "source": [
    "db = add_to_prompt_database(text, \n",
    "                            description, \n",
    "                            parser, \n",
    "                            config.path.prompt_db, \n",
    "                            force_replace=False)"
   ]
  },
  {
   "cell_type": "code",
   "execution_count": 25,
   "id": "ca6a923c-9e34-42d7-a93d-039c3908252f",
   "metadata": {
    "tags": []
   },
   "outputs": [
    {
     "name": "stdout",
     "output_type": "stream",
     "text": [
      "Description:  This will generate a conversation between a Patient and an AI assistant in the specified languages. The only argument for this prompt is the {language} argument, if not provided it will default to English.\n",
      "Hash:  f4df95ec69\n",
      "Parser:  medical_conversation_parser\n",
      "Text:  Given the following context: {context}\n",
      "\n",
      "----------------\n",
      "Create a conversation between a Patient concerned about the symptoms and disorders presented above and an AI-Assistant. The conversation should abide by the following rules and instructions:\n",
      "1. The output should be in {language}.\n",
      "2. All questions and answers have to be strictly based on the context provided above.\n",
      "3. The questions should be diverse and cover different aspects of the context provided above.\n",
      "4. When generating the conversation please always use the English placeholders \"Patient\" for the Patient and \"AI-Assistant\" for the AI-Assistant, irrelevant of the language.\n",
      "5. The conversation should always be started by the Patient.\n",
      "6. The patient should start the conversation with a \"Hi,\".\n",
      "7. The AI-Assistant should be helpful, and supportive and try to not scare the patient. The answers have be to detailed and self-contained.\n",
      "****************************************************************************************************\n",
      "\n",
      "Description:  A general purpose prompt creating qustion answer pairs. This prompt takes two arguments {quantity} or how many q/a pairs to generate and {language}\n",
      "Hash:  f53cf99826\n",
      "Parser:  csv_qa_parser\n",
      "Text:  Given the following context: {context}\n",
      "\n",
      "----------------\n",
      "Create {quantity} detailed question-answer pairs from the context above, the questions are asked by a curious user and the answers are by a helpful AI-Assistant. The question-answer pairs should abide by the following rules and instructions:\n",
      "1. The output should be in {language}.\n",
      "2. The output should be in CSV format, with the following header: ID;Question;Answer\n",
      "3. All question/answer pairs have to be strictly based on the context provided above and be self-contained and independent.\n",
      "4. The questions should be diverse and cover different aspects of the context provided above.\n",
      "5. The answers should be long, extensive, detailed, informative, helpful and self-contained.\n",
      "****************************************************************************************************\n",
      "\n",
      "Description:  Generates high complexity various medical instruction-tasks\n",
      "Hash:  5755564c19\n",
      "Parser:  None\n",
      "Text:  You are asked to come up with a set of {quantity} diverse task instructions in the field of medicine and healthcare. These task instructions will be given to a Medical GPT model and we will evaluate the Medical GPT model for completing the instructions.\n",
      "\n",
      "Here are the requirements:\n",
      "1. Try not to repeat the verb for each instruction to maximize diversity.\n",
      "2. The language used for the instruction also should be diverse. For example, you should combine questions with imperative instructions.\n",
      "3. The type of instructions should be diverse. The list should include diverse kinds of tasks like step-by-step reasoning, multiple-choice-questions, open-ended generation, classification, editing, complex medical questions, simple medical questions, etc.\n",
      "4. A GPT language model should be able to complete the instruction. For example, do not ask the assistant to create any visual or audio output. For another example, do not ask the assistant to wake you up at 5pm or set a reminder because it cannot perform any action.\n",
      "5. The instructions should be in {language}.\n",
      "6. The instructions should be 1 to 4 sentences long. Either an imperative sentence or a question is permitted.\n",
      "7. You should generate an appropriate input to the instruction. The input field should contain a specific example provided for the instruction. It should involve realistic data and should not contain simple placeholders. The input should provide substantial content to make the instruction challenging but should ideally not exceed 300 words.\n",
      "8. Not all instructions require input. For example, when an instruction asks about some general information, \"What is diabetes\", it is not necessary to provide a specific context. In this case, we simply put \"<noinput>\" in the input field.\n",
      "9. The output should be an appropriate response to the instruction and the input. It should ideally not exceed 400 words.\n",
      "10. All generated output should use the metric system for measurements and UK names for medications, substances, drugs and everything else.\n",
      "\n",
      "List of {quantity} tasks (every task has the following fields: Task:, Instruction:, Input:, Output:):\n",
      "****************************************************************************************************\n",
      "\n"
     ]
    }
   ],
   "source": [
    "# Print the prompt db\n",
    "for prompt in db:\n",
    "    print('Description: ', prompt['description'])\n",
    "    print('Hash: ', prompt['hash'])\n",
    "    print('Parser: ', prompt['parser'])\n",
    "    print('Text: ', prompt['text'])\n",
    "    print(\"*\"*100)\n",
    "    print()"
   ]
  },
  {
   "cell_type": "code",
   "execution_count": null,
   "id": "2d4a2a9b-4de8-488e-9914-8181ec218935",
   "metadata": {},
   "outputs": [],
   "source": []
  }
 ],
 "metadata": {
  "kernelspec": {
   "display_name": "Python 3 (ipykernel)",
   "language": "python",
   "name": "python3"
  },
  "language_info": {
   "codemirror_mode": {
    "name": "ipython",
    "version": 3
   },
   "file_extension": ".py",
   "mimetype": "text/x-python",
   "name": "python",
   "nbconvert_exporter": "python",
   "pygments_lexer": "ipython3",
   "version": "3.8.0"
  }
 },
 "nbformat": 4,
 "nbformat_minor": 5
}
