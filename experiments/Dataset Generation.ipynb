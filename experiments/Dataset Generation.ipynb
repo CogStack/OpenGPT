{
 "cells": [
  {
   "cell_type": "code",
   "execution_count": 2,
   "id": "4c5b7353-c14b-434c-a6c9-3a7c1fde8168",
   "metadata": {
    "tags": []
   },
   "outputs": [],
   "source": [
    "import tiktoken\n",
    "import pandas as pd\n",
    "import getpass\n",
    "import openai\n",
    "\n",
    "from opengpt.config import Config\n",
    "from opengpt.dataset_utils import split_csv_by_max_len, create_dataset"
   ]
  },
  {
   "cell_type": "markdown",
   "id": "7a16f03d-c27c-4831-8eaa-447bca04bd62",
   "metadata": {},
   "source": [
    "## Prompt and domain-data configuration\n",
    "\n",
    "Make sure the prompts and domain-data is configured properly. Domain-data in the `config` file is the `datasets` part."
   ]
  },
  {
   "cell_type": "code",
   "execution_count": 20,
   "id": "655a1116-0a27-4d27-ae8c-614b9f559f32",
   "metadata": {
    "tags": []
   },
   "outputs": [],
   "source": [
    "config = Config(yaml_path='../configs/example_config_for_detaset_creation.yaml')"
   ]
  },
  {
   "cell_type": "code",
   "execution_count": null,
   "id": "85b20ef3-00ce-4dd3-8c53-2d1166fbb6e9",
   "metadata": {
    "tags": []
   },
   "outputs": [],
   "source": [
    "# Based on the teacher and model, you might need to change the tokenizer\n",
    "tokenizer = tiktoken.encoding_for_model(config.teacher.model)"
   ]
  },
  {
   "cell_type": "code",
   "execution_count": 22,
   "id": "f8c37bf8-2ba7-4b98-aa52-f319a45fcd3a",
   "metadata": {
    "tags": []
   },
   "outputs": [
    {
     "data": {
      "application/vnd.jupyter.widget-view+json": {
       "model_id": "a9d3ec8e030c4f9f81982593d2f68694",
       "version_major": 2,
       "version_minor": 0
      },
      "text/plain": [
       "Datasets:   0%|          | 0/1 [00:00<?, ?it/s]"
      ]
     },
     "metadata": {},
     "output_type": "display_data"
    },
    {
     "data": {
      "application/vnd.jupyter.widget-view+json": {
       "model_id": "7296f66408a140b885de7b6e84229102",
       "version_major": 2,
       "version_minor": 0
      },
      "text/plain": [
       "nhs_conditions_small_sample:   0%|          | 0/10 [00:00<?, ?it/s]"
      ]
     },
     "metadata": {},
     "output_type": "display_data"
    },
    {
     "name": "stderr",
     "output_type": "stream",
     "text": [
      "WARNING:root:nhs_conditions_small_sample: length before vs after: 10 vs 10\n",
      "\n"
     ]
    }
   ],
   "source": [
    "split_csv_by_max_len(config.datasets, \n",
    "                     max_len=config.teacher.max_len, \n",
    "                     tokenizer=tokenizer,\n",
    "                     base_path=config.base_path)"
   ]
  },
  {
   "cell_type": "markdown",
   "id": "50b421e9-fc31-453d-bbfe-8fd592548720",
   "metadata": {
    "tags": []
   },
   "source": [
    "## Send data to the Teacher and create a instruction based dataset\n",
    "\n",
    "If an example ocasionally fails, that is fine. But, if no examples pass, have a look at the parser and prompt you are using, maybe they are not aligned. \n",
    "\n",
    "If the connection breaks or for some reason the generation stops, that is fine, the scripts below make checkpoints and will continue generation. Everytime we run the script it will also try to re-do the examples that failed in the previous run."
   ]
  },
  {
   "cell_type": "code",
   "execution_count": null,
   "id": "d45e1d24-12dc-4f5d-a07d-994e98050f7e",
   "metadata": {
    "tags": []
   },
   "outputs": [],
   "source": [
    "openai.api_key = getpass.getpass(\"Your OPENAI_API_KEY: \")"
   ]
  },
  {
   "cell_type": "code",
   "execution_count": 8,
   "id": "3e7d8cf5-b313-42e1-a974-2dbd44be791c",
   "metadata": {
    "tags": []
   },
   "outputs": [
    {
     "name": "stderr",
     "output_type": "stream",
     "text": [
      "WARNING:root:\n",
      "Starting prompts: ['f53cf99826', 'f4df95ec69']\n",
      "Run: 0\n",
      "Language: English\n"
     ]
    },
    {
     "data": {
      "application/vnd.jupyter.widget-view+json": {
       "model_id": "77b23dfe1ad840e5ac4e5541abedecfc",
       "version_major": 2,
       "version_minor": 0
      },
      "text/plain": [
       "nhs_conditions_small_sample:   0%|          | 0/10 [00:00<?, ?it/s]"
      ]
     },
     "metadata": {},
     "output_type": "display_data"
    },
    {
     "name": "stderr",
     "output_type": "stream",
     "text": [
      "WARNING:root:Checkpointing the generated dataset.\n",
      "WARNING:root:\n",
      "Starting prompts: ['f53cf99826', 'f4df95ec69']\n",
      "Run: 0\n",
      "Language: French\n"
     ]
    },
    {
     "data": {
      "application/vnd.jupyter.widget-view+json": {
       "model_id": "236f31e8b0424cdab29206074e28798b",
       "version_major": 2,
       "version_minor": 0
      },
      "text/plain": [
       "nhs_conditions_small_sample:   0%|          | 0/10 [00:00<?, ?it/s]"
      ]
     },
     "metadata": {},
     "output_type": "display_data"
    },
    {
     "name": "stderr",
     "output_type": "stream",
     "text": [
      "WARNING:root:Checkpointing the generated dataset.\n",
      "WARNING:root:\n",
      "Starting prompts: ['f53cf99826', 'f4df95ec69']\n",
      "Run: 1\n",
      "Language: English\n"
     ]
    },
    {
     "data": {
      "application/vnd.jupyter.widget-view+json": {
       "model_id": "c132236b39a6481081e132bf9a961e50",
       "version_major": 2,
       "version_minor": 0
      },
      "text/plain": [
       "nhs_conditions_small_sample:   0%|          | 0/10 [00:00<?, ?it/s]"
      ]
     },
     "metadata": {},
     "output_type": "display_data"
    },
    {
     "name": "stderr",
     "output_type": "stream",
     "text": [
      "WARNING:root:Checkpointing the generated dataset.\n",
      "WARNING:root:\n",
      "Starting prompts: ['f53cf99826', 'f4df95ec69']\n",
      "Run: 1\n",
      "Language: French\n"
     ]
    },
    {
     "data": {
      "application/vnd.jupyter.widget-view+json": {
       "model_id": "626e48b166644ec6814c6b9db6d68fef",
       "version_major": 2,
       "version_minor": 0
      },
      "text/plain": [
       "nhs_conditions_small_sample:   0%|          | 0/10 [00:00<?, ?it/s]"
      ]
     },
     "metadata": {},
     "output_type": "display_data"
    },
    {
     "name": "stderr",
     "output_type": "stream",
     "text": [
      "WARNING:root:Checkpointing the generated dataset.\n"
     ]
    }
   ],
   "source": [
    "# The same dataset will create outputs in two languages and do this for two epochs and two different prompts\n",
    "raw_data, prepared_data = create_dataset(config)"
   ]
  },
  {
   "cell_type": "code",
   "execution_count": 31,
   "id": "2f520c8b-657a-4245-9257-68e6dc0724c6",
   "metadata": {
    "tags": []
   },
   "outputs": [
    {
     "data": {
      "text/html": [
       "<div>\n",
       "<style scoped>\n",
       "    .dataframe tbody tr th:only-of-type {\n",
       "        vertical-align: middle;\n",
       "    }\n",
       "\n",
       "    .dataframe tbody tr th {\n",
       "        vertical-align: top;\n",
       "    }\n",
       "\n",
       "    .dataframe thead th {\n",
       "        text-align: right;\n",
       "    }\n",
       "</style>\n",
       "<table border=\"1\" class=\"dataframe\">\n",
       "  <thead>\n",
       "    <tr style=\"text-align: right;\">\n",
       "      <th></th>\n",
       "      <th>text</th>\n",
       "      <th>raw_data_id</th>\n",
       "    </tr>\n",
       "  </thead>\n",
       "  <tbody>\n",
       "    <tr>\n",
       "      <th>0</th>\n",
       "      <td>&lt;|user|&gt; What is considered a high blood press...</td>\n",
       "      <td>0</td>\n",
       "    </tr>\n",
       "    <tr>\n",
       "      <th>1</th>\n",
       "      <td>&lt;|user|&gt; What are the risks of having high blo...</td>\n",
       "      <td>0</td>\n",
       "    </tr>\n",
       "    <tr>\n",
       "      <th>2</th>\n",
       "      <td>&lt;|user|&gt; What lifestyle changes can help preve...</td>\n",
       "      <td>0</td>\n",
       "    </tr>\n",
       "    <tr>\n",
       "      <th>3</th>\n",
       "      <td>&lt;|user|&gt; What kind of medicines can help contr...</td>\n",
       "      <td>0</td>\n",
       "    </tr>\n",
       "    <tr>\n",
       "      <th>4</th>\n",
       "      <td>&lt;|user|&gt; What are some things that can increas...</td>\n",
       "      <td>0</td>\n",
       "    </tr>\n",
       "  </tbody>\n",
       "</table>\n",
       "</div>"
      ],
      "text/plain": [
       "                                                text  raw_data_id\n",
       "0  <|user|> What is considered a high blood press...            0\n",
       "1  <|user|> What are the risks of having high blo...            0\n",
       "2  <|user|> What lifestyle changes can help preve...            0\n",
       "3  <|user|> What kind of medicines can help contr...            0\n",
       "4  <|user|> What are some things that can increas...            0"
      ]
     },
     "execution_count": 31,
     "metadata": {},
     "output_type": "execute_result"
    }
   ],
   "source": [
    "prepared_data.head()"
   ]
  },
  {
   "cell_type": "code",
   "execution_count": 30,
   "id": "ceb30e42-f079-4d9d-80e4-4c38378d00d1",
   "metadata": {
    "tags": []
   },
   "outputs": [
    {
     "data": {
      "text/html": [
       "<div>\n",
       "<style scoped>\n",
       "    .dataframe tbody tr th:only-of-type {\n",
       "        vertical-align: middle;\n",
       "    }\n",
       "\n",
       "    .dataframe tbody tr th {\n",
       "        vertical-align: top;\n",
       "    }\n",
       "\n",
       "    .dataframe thead th {\n",
       "        text-align: right;\n",
       "    }\n",
       "</style>\n",
       "<table border=\"1\" class=\"dataframe\">\n",
       "  <thead>\n",
       "    <tr style=\"text-align: right;\">\n",
       "      <th></th>\n",
       "      <th>id</th>\n",
       "      <th>raw_output</th>\n",
       "      <th>dataset</th>\n",
       "      <th>language</th>\n",
       "      <th>run</th>\n",
       "      <th>prompt_hash</th>\n",
       "      <th>prompt_text_hash</th>\n",
       "      <th>context</th>\n",
       "    </tr>\n",
       "  </thead>\n",
       "  <tbody>\n",
       "    <tr>\n",
       "      <th>0</th>\n",
       "      <td>0</td>\n",
       "      <td>ID;Question;Answer\\n1;What is considered a hig...</td>\n",
       "      <td>nhs_conditions_small_sample</td>\n",
       "      <td>English</td>\n",
       "      <td>0</td>\n",
       "      <td>f53cf99826</td>\n",
       "      <td>a886c127f3f267e647b41b8f12caf0fac51bec9ff2d908...</td>\n",
       "      <td>Overview\\nHigh blood pressure (hypertension)\\n...</td>\n",
       "    </tr>\n",
       "    <tr>\n",
       "      <th>1</th>\n",
       "      <td>1</td>\n",
       "      <td>ID;Question;Answer\\n1;What is bronchiolitis an...</td>\n",
       "      <td>nhs_conditions_small_sample</td>\n",
       "      <td>English</td>\n",
       "      <td>0</td>\n",
       "      <td>f53cf99826</td>\n",
       "      <td>ca0cc4cd9acd981724d8478f85610d37679383bbb330cb...</td>\n",
       "      <td>Bronchiolitis\\nBronchiolitis is a common chest...</td>\n",
       "    </tr>\n",
       "    <tr>\n",
       "      <th>2</th>\n",
       "      <td>2</td>\n",
       "      <td>Patient: Hi, I've been coughing for a week now...</td>\n",
       "      <td>nhs_conditions_small_sample</td>\n",
       "      <td>English</td>\n",
       "      <td>0</td>\n",
       "      <td>f4df95ec69</td>\n",
       "      <td>2bfdb5c693f89fec690df0b78321945e82d630f0dabf98...</td>\n",
       "      <td>Bronchitis\\nBronchitis is inflammation of the ...</td>\n",
       "    </tr>\n",
       "    <tr>\n",
       "      <th>3</th>\n",
       "      <td>3</td>\n",
       "      <td>Patient: Hi, I have been experiencing joint pa...</td>\n",
       "      <td>nhs_conditions_small_sample</td>\n",
       "      <td>English</td>\n",
       "      <td>0</td>\n",
       "      <td>f4df95ec69</td>\n",
       "      <td>14142c96ed663d1313091800a7778df104e50577c26f23...</td>\n",
       "      <td>Steroids\\nSteroids, also called corticosteroid...</td>\n",
       "    </tr>\n",
       "    <tr>\n",
       "      <th>4</th>\n",
       "      <td>4</td>\n",
       "      <td>ID;Question;Answer\\n1;What are the symptoms of...</td>\n",
       "      <td>nhs_conditions_small_sample</td>\n",
       "      <td>English</td>\n",
       "      <td>0</td>\n",
       "      <td>f53cf99826</td>\n",
       "      <td>ed53b30b98e2f13a1b120f459ff0ca70d3e8f305bc8855...</td>\n",
       "      <td>Overview\\nCreutzfeldt-Jakob disease\\nCreutzfel...</td>\n",
       "    </tr>\n",
       "  </tbody>\n",
       "</table>\n",
       "</div>"
      ],
      "text/plain": [
       "   id                                         raw_output   \n",
       "0   0  ID;Question;Answer\\n1;What is considered a hig...  \\\n",
       "1   1  ID;Question;Answer\\n1;What is bronchiolitis an...   \n",
       "2   2  Patient: Hi, I've been coughing for a week now...   \n",
       "3   3  Patient: Hi, I have been experiencing joint pa...   \n",
       "4   4  ID;Question;Answer\\n1;What are the symptoms of...   \n",
       "\n",
       "                       dataset language  run prompt_hash   \n",
       "0  nhs_conditions_small_sample  English    0  f53cf99826  \\\n",
       "1  nhs_conditions_small_sample  English    0  f53cf99826   \n",
       "2  nhs_conditions_small_sample  English    0  f4df95ec69   \n",
       "3  nhs_conditions_small_sample  English    0  f4df95ec69   \n",
       "4  nhs_conditions_small_sample  English    0  f53cf99826   \n",
       "\n",
       "                                    prompt_text_hash   \n",
       "0  a886c127f3f267e647b41b8f12caf0fac51bec9ff2d908...  \\\n",
       "1  ca0cc4cd9acd981724d8478f85610d37679383bbb330cb...   \n",
       "2  2bfdb5c693f89fec690df0b78321945e82d630f0dabf98...   \n",
       "3  14142c96ed663d1313091800a7778df104e50577c26f23...   \n",
       "4  ed53b30b98e2f13a1b120f459ff0ca70d3e8f305bc8855...   \n",
       "\n",
       "                                             context  \n",
       "0  Overview\\nHigh blood pressure (hypertension)\\n...  \n",
       "1  Bronchiolitis\\nBronchiolitis is a common chest...  \n",
       "2  Bronchitis\\nBronchitis is inflammation of the ...  \n",
       "3  Steroids\\nSteroids, also called corticosteroid...  \n",
       "4  Overview\\nCreutzfeldt-Jakob disease\\nCreutzfel...  "
      ]
     },
     "execution_count": 30,
     "metadata": {},
     "output_type": "execute_result"
    }
   ],
   "source": [
    "raw_data.head()"
   ]
  }
 ],
 "metadata": {
  "kernelspec": {
   "display_name": "Python 3 (ipykernel)",
   "language": "python",
   "name": "python3"
  },
  "language_info": {
   "codemirror_mode": {
    "name": "ipython",
    "version": 3
   },
   "file_extension": ".py",
   "mimetype": "text/x-python",
   "name": "python",
   "nbconvert_exporter": "python",
   "pygments_lexer": "ipython3",
   "version": "3.8.0"
  }
 },
 "nbformat": 4,
 "nbformat_minor": 5
}
